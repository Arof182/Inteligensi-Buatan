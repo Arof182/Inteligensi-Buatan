{
 "cells": [
  {
   "cell_type": "code",
   "execution_count": 1,
   "id": "ca9a362d",
   "metadata": {},
   "outputs": [
    {
     "data": {
      "text/plain": [
       "'C:\\\\Users\\\\Asus\\\\Tugas Intelegensi Buatan'"
      ]
     },
     "execution_count": 1,
     "metadata": {},
     "output_type": "execute_result"
    }
   ],
   "source": [
    "pwd"
   ]
  },
  {
   "cell_type": "code",
   "execution_count": 2,
   "id": "63e94a5c",
   "metadata": {},
   "outputs": [
    {
     "name": "stdout",
     "output_type": "stream",
     "text": [
      "d:\\Tugas Intelegensi Buatan\n"
     ]
    }
   ],
   "source": [
    "cd \"d:/Tugas Intelegensi Buatan\""
   ]
  },
  {
   "cell_type": "code",
   "execution_count": 3,
   "id": "b4abc64d",
   "metadata": {},
   "outputs": [],
   "source": [
    "import pandas as pd\n",
    "import matplotlib.pyplot as plt"
   ]
  },
  {
   "cell_type": "code",
   "execution_count": 4,
   "id": "9f8da224",
   "metadata": {},
   "outputs": [
    {
     "data": {
      "text/html": [
       "<div>\n",
       "<style scoped>\n",
       "    .dataframe tbody tr th:only-of-type {\n",
       "        vertical-align: middle;\n",
       "    }\n",
       "\n",
       "    .dataframe tbody tr th {\n",
       "        vertical-align: top;\n",
       "    }\n",
       "\n",
       "    .dataframe thead th {\n",
       "        text-align: right;\n",
       "    }\n",
       "</style>\n",
       "<table border=\"1\" class=\"dataframe\">\n",
       "  <thead>\n",
       "    <tr style=\"text-align: right;\">\n",
       "      <th></th>\n",
       "      <th>Nama Kab/Kota</th>\n",
       "      <th>KK</th>\n",
       "      <th>Jumlah Penduduk</th>\n",
       "      <th></th>\n",
       "      <th>Unnamed: 4</th>\n",
       "    </tr>\n",
       "  </thead>\n",
       "  <tbody>\n",
       "    <tr>\n",
       "      <th>0</th>\n",
       "      <td></td>\n",
       "      <td></td>\n",
       "      <td>Lk</td>\n",
       "      <td>Pr</td>\n",
       "      <td>Total</td>\n",
       "    </tr>\n",
       "    <tr>\n",
       "      <th>1</th>\n",
       "      <td>Lampung Selatan</td>\n",
       "      <td>320.799</td>\n",
       "      <td>535.723</td>\n",
       "      <td>509.939</td>\n",
       "      <td>1.045.662</td>\n",
       "    </tr>\n",
       "    <tr>\n",
       "      <th>2</th>\n",
       "      <td>Lampung Tengah</td>\n",
       "      <td>467.358</td>\n",
       "      <td>760.129</td>\n",
       "      <td>719.275</td>\n",
       "      <td>1.479.404</td>\n",
       "    </tr>\n",
       "    <tr>\n",
       "      <th>3</th>\n",
       "      <td>Lampung Utara</td>\n",
       "      <td>197.820</td>\n",
       "      <td>317.647</td>\n",
       "      <td>304.165</td>\n",
       "      <td>621.812</td>\n",
       "    </tr>\n",
       "    <tr>\n",
       "      <th>4</th>\n",
       "      <td>Lampung Barat</td>\n",
       "      <td>88.999</td>\n",
       "      <td>159.061</td>\n",
       "      <td>146.911</td>\n",
       "      <td>305.972</td>\n",
       "    </tr>\n",
       "    <tr>\n",
       "      <th>5</th>\n",
       "      <td>Tulang Bawang</td>\n",
       "      <td>136.116</td>\n",
       "      <td>220.381</td>\n",
       "      <td>205.350</td>\n",
       "      <td>425.731</td>\n",
       "    </tr>\n",
       "    <tr>\n",
       "      <th>6</th>\n",
       "      <td>Tanggamus</td>\n",
       "      <td>176.992</td>\n",
       "      <td>336.402</td>\n",
       "      <td>312.554</td>\n",
       "      <td>648.956</td>\n",
       "    </tr>\n",
       "    <tr>\n",
       "      <th>7</th>\n",
       "      <td>Lampung Timur</td>\n",
       "      <td>364.979</td>\n",
       "      <td>575.614</td>\n",
       "      <td>550.060</td>\n",
       "      <td>1.125.674</td>\n",
       "    </tr>\n",
       "    <tr>\n",
       "      <th>8</th>\n",
       "      <td>Way Kanan</td>\n",
       "      <td>143.231</td>\n",
       "      <td>245.450</td>\n",
       "      <td>232.318</td>\n",
       "      <td>477.768</td>\n",
       "    </tr>\n",
       "    <tr>\n",
       "      <th>9</th>\n",
       "      <td>Pesawaran</td>\n",
       "      <td>150.110</td>\n",
       "      <td>244.377</td>\n",
       "      <td>228.384</td>\n",
       "      <td>472.761</td>\n",
       "    </tr>\n",
       "    <tr>\n",
       "      <th>10</th>\n",
       "      <td>Pringsewu</td>\n",
       "      <td>126.091</td>\n",
       "      <td>208.957</td>\n",
       "      <td>195.451</td>\n",
       "      <td>404.408</td>\n",
       "    </tr>\n",
       "    <tr>\n",
       "      <th>11</th>\n",
       "      <td>Mesuji</td>\n",
       "      <td>77.170</td>\n",
       "      <td>119.080</td>\n",
       "      <td>111.293</td>\n",
       "      <td>230.373</td>\n",
       "    </tr>\n",
       "    <tr>\n",
       "      <th>12</th>\n",
       "      <td>Tulang Bawang Barat</td>\n",
       "      <td>101.153</td>\n",
       "      <td>141.939</td>\n",
       "      <td>134.472</td>\n",
       "      <td>276.411</td>\n",
       "    </tr>\n",
       "    <tr>\n",
       "      <th>13</th>\n",
       "      <td>Pesisir Barat</td>\n",
       "      <td>46.619</td>\n",
       "      <td>84.048</td>\n",
       "      <td>76.820</td>\n",
       "      <td>160.868</td>\n",
       "    </tr>\n",
       "    <tr>\n",
       "      <th>14</th>\n",
       "      <td>Bandar Lampung</td>\n",
       "      <td>346.719</td>\n",
       "      <td>605.710</td>\n",
       "      <td>580.033</td>\n",
       "      <td>1.185.743</td>\n",
       "    </tr>\n",
       "    <tr>\n",
       "      <th>15</th>\n",
       "      <td>Metro</td>\n",
       "      <td>51.331</td>\n",
       "      <td>86.189</td>\n",
       "      <td>84.663</td>\n",
       "      <td>170.852</td>\n",
       "    </tr>\n",
       "  </tbody>\n",
       "</table>\n",
       "</div>"
      ],
      "text/plain": [
       "          Nama Kab/Kota        KK  Jumlah Penduduk            Unnamed: 4\n",
       "0                                               Lk        Pr       Total\n",
       "1       Lampung Selatan   320.799          535.723   509.939   1.045.662\n",
       "2        Lampung Tengah   467.358          760.129   719.275   1.479.404\n",
       "3         Lampung Utara   197.820          317.647   304.165     621.812\n",
       "4         Lampung Barat    88.999          159.061   146.911     305.972\n",
       "5         Tulang Bawang   136.116          220.381   205.350     425.731\n",
       "6             Tanggamus   176.992          336.402   312.554     648.956\n",
       "7         Lampung Timur   364.979          575.614   550.060   1.125.674\n",
       "8             Way Kanan   143.231          245.450   232.318     477.768\n",
       "9             Pesawaran   150.110          244.377   228.384     472.761\n",
       "10            Pringsewu   126.091          208.957   195.451     404.408\n",
       "11               Mesuji    77.170          119.080   111.293     230.373\n",
       "12  Tulang Bawang Barat   101.153          141.939   134.472     276.411\n",
       "13        Pesisir Barat    46.619           84.048    76.820     160.868\n",
       "14       Bandar Lampung   346.719          605.710   580.033   1.185.743\n",
       "15                Metro    51.331           86.189    84.663     170.852"
      ]
     },
     "execution_count": 4,
     "metadata": {},
     "output_type": "execute_result"
    }
   ],
   "source": [
    "pd.read_csv(\"DataPenduduk.csv\")"
   ]
  },
  {
   "cell_type": "code",
   "execution_count": 5,
   "id": "60663800",
   "metadata": {},
   "outputs": [],
   "source": [
    "data = pd.read_csv(\"DataPenduduk.csv\")"
   ]
  },
  {
   "cell_type": "code",
   "execution_count": 6,
   "id": "29d4b72f",
   "metadata": {},
   "outputs": [
    {
     "data": {
      "text/html": [
       "<div>\n",
       "<style scoped>\n",
       "    .dataframe tbody tr th:only-of-type {\n",
       "        vertical-align: middle;\n",
       "    }\n",
       "\n",
       "    .dataframe tbody tr th {\n",
       "        vertical-align: top;\n",
       "    }\n",
       "\n",
       "    .dataframe thead th {\n",
       "        text-align: right;\n",
       "    }\n",
       "</style>\n",
       "<table border=\"1\" class=\"dataframe\">\n",
       "  <thead>\n",
       "    <tr style=\"text-align: right;\">\n",
       "      <th></th>\n",
       "      <th>Nama Kab/Kota</th>\n",
       "      <th>KK</th>\n",
       "      <th>Jumlah Penduduk</th>\n",
       "      <th></th>\n",
       "      <th>Unnamed: 4</th>\n",
       "    </tr>\n",
       "  </thead>\n",
       "  <tbody>\n",
       "    <tr>\n",
       "      <th>0</th>\n",
       "      <td></td>\n",
       "      <td></td>\n",
       "      <td>Lk</td>\n",
       "      <td>Pr</td>\n",
       "      <td>Total</td>\n",
       "    </tr>\n",
       "    <tr>\n",
       "      <th>1</th>\n",
       "      <td>Lampung Selatan</td>\n",
       "      <td>320.799</td>\n",
       "      <td>535.723</td>\n",
       "      <td>509.939</td>\n",
       "      <td>1.045.662</td>\n",
       "    </tr>\n",
       "    <tr>\n",
       "      <th>2</th>\n",
       "      <td>Lampung Tengah</td>\n",
       "      <td>467.358</td>\n",
       "      <td>760.129</td>\n",
       "      <td>719.275</td>\n",
       "      <td>1.479.404</td>\n",
       "    </tr>\n",
       "    <tr>\n",
       "      <th>3</th>\n",
       "      <td>Lampung Utara</td>\n",
       "      <td>197.820</td>\n",
       "      <td>317.647</td>\n",
       "      <td>304.165</td>\n",
       "      <td>621.812</td>\n",
       "    </tr>\n",
       "    <tr>\n",
       "      <th>4</th>\n",
       "      <td>Lampung Barat</td>\n",
       "      <td>88.999</td>\n",
       "      <td>159.061</td>\n",
       "      <td>146.911</td>\n",
       "      <td>305.972</td>\n",
       "    </tr>\n",
       "  </tbody>\n",
       "</table>\n",
       "</div>"
      ],
      "text/plain": [
       "     Nama Kab/Kota        KK  Jumlah Penduduk            Unnamed: 4\n",
       "0                                          Lk        Pr       Total\n",
       "1  Lampung Selatan   320.799          535.723   509.939   1.045.662\n",
       "2   Lampung Tengah   467.358          760.129   719.275   1.479.404\n",
       "3    Lampung Utara   197.820          317.647   304.165     621.812\n",
       "4    Lampung Barat    88.999          159.061   146.911     305.972"
      ]
     },
     "execution_count": 6,
     "metadata": {},
     "output_type": "execute_result"
    }
   ],
   "source": [
    "data.head()"
   ]
  },
  {
   "cell_type": "code",
   "execution_count": 7,
   "id": "863bcf74",
   "metadata": {},
   "outputs": [
    {
     "data": {
      "text/html": [
       "<div>\n",
       "<style scoped>\n",
       "    .dataframe tbody tr th:only-of-type {\n",
       "        vertical-align: middle;\n",
       "    }\n",
       "\n",
       "    .dataframe tbody tr th {\n",
       "        vertical-align: top;\n",
       "    }\n",
       "\n",
       "    .dataframe thead th {\n",
       "        text-align: right;\n",
       "    }\n",
       "</style>\n",
       "<table border=\"1\" class=\"dataframe\">\n",
       "  <thead>\n",
       "    <tr style=\"text-align: right;\">\n",
       "      <th></th>\n",
       "      <th>Nama Kab/Kota</th>\n",
       "      <th>KK</th>\n",
       "      <th>Jumlah Penduduk</th>\n",
       "      <th></th>\n",
       "      <th>Unnamed: 4</th>\n",
       "    </tr>\n",
       "  </thead>\n",
       "  <tbody>\n",
       "    <tr>\n",
       "      <th>11</th>\n",
       "      <td>Mesuji</td>\n",
       "      <td>77.170</td>\n",
       "      <td>119.080</td>\n",
       "      <td>111.293</td>\n",
       "      <td>230.373</td>\n",
       "    </tr>\n",
       "    <tr>\n",
       "      <th>12</th>\n",
       "      <td>Tulang Bawang Barat</td>\n",
       "      <td>101.153</td>\n",
       "      <td>141.939</td>\n",
       "      <td>134.472</td>\n",
       "      <td>276.411</td>\n",
       "    </tr>\n",
       "    <tr>\n",
       "      <th>13</th>\n",
       "      <td>Pesisir Barat</td>\n",
       "      <td>46.619</td>\n",
       "      <td>84.048</td>\n",
       "      <td>76.820</td>\n",
       "      <td>160.868</td>\n",
       "    </tr>\n",
       "    <tr>\n",
       "      <th>14</th>\n",
       "      <td>Bandar Lampung</td>\n",
       "      <td>346.719</td>\n",
       "      <td>605.710</td>\n",
       "      <td>580.033</td>\n",
       "      <td>1.185.743</td>\n",
       "    </tr>\n",
       "    <tr>\n",
       "      <th>15</th>\n",
       "      <td>Metro</td>\n",
       "      <td>51.331</td>\n",
       "      <td>86.189</td>\n",
       "      <td>84.663</td>\n",
       "      <td>170.852</td>\n",
       "    </tr>\n",
       "  </tbody>\n",
       "</table>\n",
       "</div>"
      ],
      "text/plain": [
       "          Nama Kab/Kota        KK  Jumlah Penduduk            Unnamed: 4\n",
       "11               Mesuji    77.170          119.080   111.293     230.373\n",
       "12  Tulang Bawang Barat   101.153          141.939   134.472     276.411\n",
       "13        Pesisir Barat    46.619           84.048    76.820     160.868\n",
       "14       Bandar Lampung   346.719          605.710   580.033   1.185.743\n",
       "15                Metro    51.331           86.189    84.663     170.852"
      ]
     },
     "execution_count": 7,
     "metadata": {},
     "output_type": "execute_result"
    }
   ],
   "source": [
    "data.tail()"
   ]
  },
  {
   "cell_type": "code",
   "execution_count": 8,
   "id": "51ea558a",
   "metadata": {},
   "outputs": [
    {
     "ename": "IndexError",
     "evalue": "single positional indexer is out-of-bounds",
     "output_type": "error",
     "traceback": [
      "\u001b[1;31m---------------------------------------------------------------------------\u001b[0m",
      "\u001b[1;31mIndexError\u001b[0m                                Traceback (most recent call last)",
      "Cell \u001b[1;32mIn[8], line 2\u001b[0m\n\u001b[0;32m      1\u001b[0m x \u001b[38;5;241m=\u001b[39m data\u001b[38;5;241m.\u001b[39miloc[:,\u001b[38;5;241m0\u001b[39m:\u001b[38;5;241m4\u001b[39m]\n\u001b[1;32m----> 2\u001b[0m y \u001b[38;5;241m=\u001b[39m data\u001b[38;5;241m.\u001b[39miloc[:,\u001b[38;5;241m5\u001b[39m]\n",
      "File \u001b[1;32mD:\\Aplikasi\\Anaconda Prompt\\Lib\\site-packages\\pandas\\core\\indexing.py:1097\u001b[0m, in \u001b[0;36m_LocationIndexer.__getitem__\u001b[1;34m(self, key)\u001b[0m\n\u001b[0;32m   1095\u001b[0m     \u001b[38;5;28;01mif\u001b[39;00m \u001b[38;5;28mself\u001b[39m\u001b[38;5;241m.\u001b[39m_is_scalar_access(key):\n\u001b[0;32m   1096\u001b[0m         \u001b[38;5;28;01mreturn\u001b[39;00m \u001b[38;5;28mself\u001b[39m\u001b[38;5;241m.\u001b[39mobj\u001b[38;5;241m.\u001b[39m_get_value(\u001b[38;5;241m*\u001b[39mkey, takeable\u001b[38;5;241m=\u001b[39m\u001b[38;5;28mself\u001b[39m\u001b[38;5;241m.\u001b[39m_takeable)\n\u001b[1;32m-> 1097\u001b[0m     \u001b[38;5;28;01mreturn\u001b[39;00m \u001b[38;5;28mself\u001b[39m\u001b[38;5;241m.\u001b[39m_getitem_tuple(key)\n\u001b[0;32m   1098\u001b[0m \u001b[38;5;28;01melse\u001b[39;00m:\n\u001b[0;32m   1099\u001b[0m     \u001b[38;5;66;03m# we by definition only have the 0th axis\u001b[39;00m\n\u001b[0;32m   1100\u001b[0m     axis \u001b[38;5;241m=\u001b[39m \u001b[38;5;28mself\u001b[39m\u001b[38;5;241m.\u001b[39maxis \u001b[38;5;129;01mor\u001b[39;00m \u001b[38;5;241m0\u001b[39m\n",
      "File \u001b[1;32mD:\\Aplikasi\\Anaconda Prompt\\Lib\\site-packages\\pandas\\core\\indexing.py:1594\u001b[0m, in \u001b[0;36m_iLocIndexer._getitem_tuple\u001b[1;34m(self, tup)\u001b[0m\n\u001b[0;32m   1593\u001b[0m \u001b[38;5;28;01mdef\u001b[39;00m \u001b[38;5;21m_getitem_tuple\u001b[39m(\u001b[38;5;28mself\u001b[39m, tup: \u001b[38;5;28mtuple\u001b[39m):\n\u001b[1;32m-> 1594\u001b[0m     tup \u001b[38;5;241m=\u001b[39m \u001b[38;5;28mself\u001b[39m\u001b[38;5;241m.\u001b[39m_validate_tuple_indexer(tup)\n\u001b[0;32m   1595\u001b[0m     \u001b[38;5;28;01mwith\u001b[39;00m suppress(IndexingError):\n\u001b[0;32m   1596\u001b[0m         \u001b[38;5;28;01mreturn\u001b[39;00m \u001b[38;5;28mself\u001b[39m\u001b[38;5;241m.\u001b[39m_getitem_lowerdim(tup)\n",
      "File \u001b[1;32mD:\\Aplikasi\\Anaconda Prompt\\Lib\\site-packages\\pandas\\core\\indexing.py:904\u001b[0m, in \u001b[0;36m_LocationIndexer._validate_tuple_indexer\u001b[1;34m(self, key)\u001b[0m\n\u001b[0;32m    902\u001b[0m \u001b[38;5;28;01mfor\u001b[39;00m i, k \u001b[38;5;129;01min\u001b[39;00m \u001b[38;5;28menumerate\u001b[39m(key):\n\u001b[0;32m    903\u001b[0m     \u001b[38;5;28;01mtry\u001b[39;00m:\n\u001b[1;32m--> 904\u001b[0m         \u001b[38;5;28mself\u001b[39m\u001b[38;5;241m.\u001b[39m_validate_key(k, i)\n\u001b[0;32m    905\u001b[0m     \u001b[38;5;28;01mexcept\u001b[39;00m \u001b[38;5;167;01mValueError\u001b[39;00m \u001b[38;5;28;01mas\u001b[39;00m err:\n\u001b[0;32m    906\u001b[0m         \u001b[38;5;28;01mraise\u001b[39;00m \u001b[38;5;167;01mValueError\u001b[39;00m(\n\u001b[0;32m    907\u001b[0m             \u001b[38;5;124m\"\u001b[39m\u001b[38;5;124mLocation based indexing can only have \u001b[39m\u001b[38;5;124m\"\u001b[39m\n\u001b[0;32m    908\u001b[0m             \u001b[38;5;124mf\u001b[39m\u001b[38;5;124m\"\u001b[39m\u001b[38;5;124m[\u001b[39m\u001b[38;5;132;01m{\u001b[39;00m\u001b[38;5;28mself\u001b[39m\u001b[38;5;241m.\u001b[39m_valid_types\u001b[38;5;132;01m}\u001b[39;00m\u001b[38;5;124m] types\u001b[39m\u001b[38;5;124m\"\u001b[39m\n\u001b[0;32m    909\u001b[0m         ) \u001b[38;5;28;01mfrom\u001b[39;00m \u001b[38;5;21;01merr\u001b[39;00m\n",
      "File \u001b[1;32mD:\\Aplikasi\\Anaconda Prompt\\Lib\\site-packages\\pandas\\core\\indexing.py:1496\u001b[0m, in \u001b[0;36m_iLocIndexer._validate_key\u001b[1;34m(self, key, axis)\u001b[0m\n\u001b[0;32m   1494\u001b[0m     \u001b[38;5;28;01mreturn\u001b[39;00m\n\u001b[0;32m   1495\u001b[0m \u001b[38;5;28;01melif\u001b[39;00m is_integer(key):\n\u001b[1;32m-> 1496\u001b[0m     \u001b[38;5;28mself\u001b[39m\u001b[38;5;241m.\u001b[39m_validate_integer(key, axis)\n\u001b[0;32m   1497\u001b[0m \u001b[38;5;28;01melif\u001b[39;00m \u001b[38;5;28misinstance\u001b[39m(key, \u001b[38;5;28mtuple\u001b[39m):\n\u001b[0;32m   1498\u001b[0m     \u001b[38;5;66;03m# a tuple should already have been caught by this point\u001b[39;00m\n\u001b[0;32m   1499\u001b[0m     \u001b[38;5;66;03m# so don't treat a tuple as a valid indexer\u001b[39;00m\n\u001b[0;32m   1500\u001b[0m     \u001b[38;5;28;01mraise\u001b[39;00m IndexingError(\u001b[38;5;124m\"\u001b[39m\u001b[38;5;124mToo many indexers\u001b[39m\u001b[38;5;124m\"\u001b[39m)\n",
      "File \u001b[1;32mD:\\Aplikasi\\Anaconda Prompt\\Lib\\site-packages\\pandas\\core\\indexing.py:1589\u001b[0m, in \u001b[0;36m_iLocIndexer._validate_integer\u001b[1;34m(self, key, axis)\u001b[0m\n\u001b[0;32m   1587\u001b[0m len_axis \u001b[38;5;241m=\u001b[39m \u001b[38;5;28mlen\u001b[39m(\u001b[38;5;28mself\u001b[39m\u001b[38;5;241m.\u001b[39mobj\u001b[38;5;241m.\u001b[39m_get_axis(axis))\n\u001b[0;32m   1588\u001b[0m \u001b[38;5;28;01mif\u001b[39;00m key \u001b[38;5;241m>\u001b[39m\u001b[38;5;241m=\u001b[39m len_axis \u001b[38;5;129;01mor\u001b[39;00m key \u001b[38;5;241m<\u001b[39m \u001b[38;5;241m-\u001b[39mlen_axis:\n\u001b[1;32m-> 1589\u001b[0m     \u001b[38;5;28;01mraise\u001b[39;00m \u001b[38;5;167;01mIndexError\u001b[39;00m(\u001b[38;5;124m\"\u001b[39m\u001b[38;5;124msingle positional indexer is out-of-bounds\u001b[39m\u001b[38;5;124m\"\u001b[39m)\n",
      "\u001b[1;31mIndexError\u001b[0m: single positional indexer is out-of-bounds"
     ]
    }
   ],
   "source": [
    "x = data.iloc[:,0:4]\n",
    "y = data.iloc[:,5]"
   ]
  },
  {
   "cell_type": "code",
   "execution_count": 9,
   "id": "ac7b2d34",
   "metadata": {},
   "outputs": [
    {
     "data": {
      "text/html": [
       "<div>\n",
       "<style scoped>\n",
       "    .dataframe tbody tr th:only-of-type {\n",
       "        vertical-align: middle;\n",
       "    }\n",
       "\n",
       "    .dataframe tbody tr th {\n",
       "        vertical-align: top;\n",
       "    }\n",
       "\n",
       "    .dataframe thead th {\n",
       "        text-align: right;\n",
       "    }\n",
       "</style>\n",
       "<table border=\"1\" class=\"dataframe\">\n",
       "  <thead>\n",
       "    <tr style=\"text-align: right;\">\n",
       "      <th></th>\n",
       "      <th>Nama Kab/Kota</th>\n",
       "      <th>KK</th>\n",
       "      <th>Jumlah Penduduk</th>\n",
       "      <th></th>\n",
       "      <th>Unnamed: 4</th>\n",
       "    </tr>\n",
       "  </thead>\n",
       "  <tbody>\n",
       "    <tr>\n",
       "      <th>0</th>\n",
       "      <td></td>\n",
       "      <td></td>\n",
       "      <td>Lk</td>\n",
       "      <td>Pr</td>\n",
       "      <td>Total</td>\n",
       "    </tr>\n",
       "    <tr>\n",
       "      <th>1</th>\n",
       "      <td>Lampung Selatan</td>\n",
       "      <td>320.799</td>\n",
       "      <td>535.723</td>\n",
       "      <td>509.939</td>\n",
       "      <td>1.045.662</td>\n",
       "    </tr>\n",
       "    <tr>\n",
       "      <th>2</th>\n",
       "      <td>Lampung Tengah</td>\n",
       "      <td>467.358</td>\n",
       "      <td>760.129</td>\n",
       "      <td>719.275</td>\n",
       "      <td>1.479.404</td>\n",
       "    </tr>\n",
       "    <tr>\n",
       "      <th>3</th>\n",
       "      <td>Lampung Utara</td>\n",
       "      <td>197.820</td>\n",
       "      <td>317.647</td>\n",
       "      <td>304.165</td>\n",
       "      <td>621.812</td>\n",
       "    </tr>\n",
       "    <tr>\n",
       "      <th>4</th>\n",
       "      <td>Lampung Barat</td>\n",
       "      <td>88.999</td>\n",
       "      <td>159.061</td>\n",
       "      <td>146.911</td>\n",
       "      <td>305.972</td>\n",
       "    </tr>\n",
       "    <tr>\n",
       "      <th>5</th>\n",
       "      <td>Tulang Bawang</td>\n",
       "      <td>136.116</td>\n",
       "      <td>220.381</td>\n",
       "      <td>205.350</td>\n",
       "      <td>425.731</td>\n",
       "    </tr>\n",
       "    <tr>\n",
       "      <th>6</th>\n",
       "      <td>Tanggamus</td>\n",
       "      <td>176.992</td>\n",
       "      <td>336.402</td>\n",
       "      <td>312.554</td>\n",
       "      <td>648.956</td>\n",
       "    </tr>\n",
       "    <tr>\n",
       "      <th>7</th>\n",
       "      <td>Lampung Timur</td>\n",
       "      <td>364.979</td>\n",
       "      <td>575.614</td>\n",
       "      <td>550.060</td>\n",
       "      <td>1.125.674</td>\n",
       "    </tr>\n",
       "    <tr>\n",
       "      <th>8</th>\n",
       "      <td>Way Kanan</td>\n",
       "      <td>143.231</td>\n",
       "      <td>245.450</td>\n",
       "      <td>232.318</td>\n",
       "      <td>477.768</td>\n",
       "    </tr>\n",
       "    <tr>\n",
       "      <th>9</th>\n",
       "      <td>Pesawaran</td>\n",
       "      <td>150.110</td>\n",
       "      <td>244.377</td>\n",
       "      <td>228.384</td>\n",
       "      <td>472.761</td>\n",
       "    </tr>\n",
       "    <tr>\n",
       "      <th>10</th>\n",
       "      <td>Pringsewu</td>\n",
       "      <td>126.091</td>\n",
       "      <td>208.957</td>\n",
       "      <td>195.451</td>\n",
       "      <td>404.408</td>\n",
       "    </tr>\n",
       "    <tr>\n",
       "      <th>11</th>\n",
       "      <td>Mesuji</td>\n",
       "      <td>77.170</td>\n",
       "      <td>119.080</td>\n",
       "      <td>111.293</td>\n",
       "      <td>230.373</td>\n",
       "    </tr>\n",
       "    <tr>\n",
       "      <th>12</th>\n",
       "      <td>Tulang Bawang Barat</td>\n",
       "      <td>101.153</td>\n",
       "      <td>141.939</td>\n",
       "      <td>134.472</td>\n",
       "      <td>276.411</td>\n",
       "    </tr>\n",
       "    <tr>\n",
       "      <th>13</th>\n",
       "      <td>Pesisir Barat</td>\n",
       "      <td>46.619</td>\n",
       "      <td>84.048</td>\n",
       "      <td>76.820</td>\n",
       "      <td>160.868</td>\n",
       "    </tr>\n",
       "    <tr>\n",
       "      <th>14</th>\n",
       "      <td>Bandar Lampung</td>\n",
       "      <td>346.719</td>\n",
       "      <td>605.710</td>\n",
       "      <td>580.033</td>\n",
       "      <td>1.185.743</td>\n",
       "    </tr>\n",
       "    <tr>\n",
       "      <th>15</th>\n",
       "      <td>Metro</td>\n",
       "      <td>51.331</td>\n",
       "      <td>86.189</td>\n",
       "      <td>84.663</td>\n",
       "      <td>170.852</td>\n",
       "    </tr>\n",
       "  </tbody>\n",
       "</table>\n",
       "</div>"
      ],
      "text/plain": [
       "          Nama Kab/Kota        KK  Jumlah Penduduk            Unnamed: 4\n",
       "0                                               Lk        Pr       Total\n",
       "1       Lampung Selatan   320.799          535.723   509.939   1.045.662\n",
       "2        Lampung Tengah   467.358          760.129   719.275   1.479.404\n",
       "3         Lampung Utara   197.820          317.647   304.165     621.812\n",
       "4         Lampung Barat    88.999          159.061   146.911     305.972\n",
       "5         Tulang Bawang   136.116          220.381   205.350     425.731\n",
       "6             Tanggamus   176.992          336.402   312.554     648.956\n",
       "7         Lampung Timur   364.979          575.614   550.060   1.125.674\n",
       "8             Way Kanan   143.231          245.450   232.318     477.768\n",
       "9             Pesawaran   150.110          244.377   228.384     472.761\n",
       "10            Pringsewu   126.091          208.957   195.451     404.408\n",
       "11               Mesuji    77.170          119.080   111.293     230.373\n",
       "12  Tulang Bawang Barat   101.153          141.939   134.472     276.411\n",
       "13        Pesisir Barat    46.619           84.048    76.820     160.868\n",
       "14       Bandar Lampung   346.719          605.710   580.033   1.185.743\n",
       "15                Metro    51.331           86.189    84.663     170.852"
      ]
     },
     "execution_count": 9,
     "metadata": {},
     "output_type": "execute_result"
    },
    {
     "name": "stdout",
     "output_type": "stream",
     "text": [
      "The history saving thread hit an unexpected error (OperationalError('database or disk is full')).History will not be written to the database.\n"
     ]
    }
   ],
   "source": [
    "data"
   ]
  },
  {
   "cell_type": "code",
   "execution_count": 10,
   "id": "9c8184e7",
   "metadata": {},
   "outputs": [],
   "source": [
    "x = data.iloc[:,0:4]"
   ]
  },
  {
   "cell_type": "code",
   "execution_count": 11,
   "id": "9ead0aec",
   "metadata": {},
   "outputs": [
    {
     "data": {
      "text/html": [
       "<div>\n",
       "<style scoped>\n",
       "    .dataframe tbody tr th:only-of-type {\n",
       "        vertical-align: middle;\n",
       "    }\n",
       "\n",
       "    .dataframe tbody tr th {\n",
       "        vertical-align: top;\n",
       "    }\n",
       "\n",
       "    .dataframe thead th {\n",
       "        text-align: right;\n",
       "    }\n",
       "</style>\n",
       "<table border=\"1\" class=\"dataframe\">\n",
       "  <thead>\n",
       "    <tr style=\"text-align: right;\">\n",
       "      <th></th>\n",
       "      <th>Nama Kab/Kota</th>\n",
       "      <th>KK</th>\n",
       "      <th>Jumlah Penduduk</th>\n",
       "      <th></th>\n",
       "    </tr>\n",
       "  </thead>\n",
       "  <tbody>\n",
       "    <tr>\n",
       "      <th>0</th>\n",
       "      <td></td>\n",
       "      <td></td>\n",
       "      <td>Lk</td>\n",
       "      <td>Pr</td>\n",
       "    </tr>\n",
       "    <tr>\n",
       "      <th>1</th>\n",
       "      <td>Lampung Selatan</td>\n",
       "      <td>320.799</td>\n",
       "      <td>535.723</td>\n",
       "      <td>509.939</td>\n",
       "    </tr>\n",
       "    <tr>\n",
       "      <th>2</th>\n",
       "      <td>Lampung Tengah</td>\n",
       "      <td>467.358</td>\n",
       "      <td>760.129</td>\n",
       "      <td>719.275</td>\n",
       "    </tr>\n",
       "    <tr>\n",
       "      <th>3</th>\n",
       "      <td>Lampung Utara</td>\n",
       "      <td>197.820</td>\n",
       "      <td>317.647</td>\n",
       "      <td>304.165</td>\n",
       "    </tr>\n",
       "    <tr>\n",
       "      <th>4</th>\n",
       "      <td>Lampung Barat</td>\n",
       "      <td>88.999</td>\n",
       "      <td>159.061</td>\n",
       "      <td>146.911</td>\n",
       "    </tr>\n",
       "    <tr>\n",
       "      <th>5</th>\n",
       "      <td>Tulang Bawang</td>\n",
       "      <td>136.116</td>\n",
       "      <td>220.381</td>\n",
       "      <td>205.350</td>\n",
       "    </tr>\n",
       "    <tr>\n",
       "      <th>6</th>\n",
       "      <td>Tanggamus</td>\n",
       "      <td>176.992</td>\n",
       "      <td>336.402</td>\n",
       "      <td>312.554</td>\n",
       "    </tr>\n",
       "    <tr>\n",
       "      <th>7</th>\n",
       "      <td>Lampung Timur</td>\n",
       "      <td>364.979</td>\n",
       "      <td>575.614</td>\n",
       "      <td>550.060</td>\n",
       "    </tr>\n",
       "    <tr>\n",
       "      <th>8</th>\n",
       "      <td>Way Kanan</td>\n",
       "      <td>143.231</td>\n",
       "      <td>245.450</td>\n",
       "      <td>232.318</td>\n",
       "    </tr>\n",
       "    <tr>\n",
       "      <th>9</th>\n",
       "      <td>Pesawaran</td>\n",
       "      <td>150.110</td>\n",
       "      <td>244.377</td>\n",
       "      <td>228.384</td>\n",
       "    </tr>\n",
       "    <tr>\n",
       "      <th>10</th>\n",
       "      <td>Pringsewu</td>\n",
       "      <td>126.091</td>\n",
       "      <td>208.957</td>\n",
       "      <td>195.451</td>\n",
       "    </tr>\n",
       "    <tr>\n",
       "      <th>11</th>\n",
       "      <td>Mesuji</td>\n",
       "      <td>77.170</td>\n",
       "      <td>119.080</td>\n",
       "      <td>111.293</td>\n",
       "    </tr>\n",
       "    <tr>\n",
       "      <th>12</th>\n",
       "      <td>Tulang Bawang Barat</td>\n",
       "      <td>101.153</td>\n",
       "      <td>141.939</td>\n",
       "      <td>134.472</td>\n",
       "    </tr>\n",
       "    <tr>\n",
       "      <th>13</th>\n",
       "      <td>Pesisir Barat</td>\n",
       "      <td>46.619</td>\n",
       "      <td>84.048</td>\n",
       "      <td>76.820</td>\n",
       "    </tr>\n",
       "    <tr>\n",
       "      <th>14</th>\n",
       "      <td>Bandar Lampung</td>\n",
       "      <td>346.719</td>\n",
       "      <td>605.710</td>\n",
       "      <td>580.033</td>\n",
       "    </tr>\n",
       "    <tr>\n",
       "      <th>15</th>\n",
       "      <td>Metro</td>\n",
       "      <td>51.331</td>\n",
       "      <td>86.189</td>\n",
       "      <td>84.663</td>\n",
       "    </tr>\n",
       "  </tbody>\n",
       "</table>\n",
       "</div>"
      ],
      "text/plain": [
       "          Nama Kab/Kota        KK  Jumlah Penduduk          \n",
       "0                                               Lk        Pr\n",
       "1       Lampung Selatan   320.799          535.723   509.939\n",
       "2        Lampung Tengah   467.358          760.129   719.275\n",
       "3         Lampung Utara   197.820          317.647   304.165\n",
       "4         Lampung Barat    88.999          159.061   146.911\n",
       "5         Tulang Bawang   136.116          220.381   205.350\n",
       "6             Tanggamus   176.992          336.402   312.554\n",
       "7         Lampung Timur   364.979          575.614   550.060\n",
       "8             Way Kanan   143.231          245.450   232.318\n",
       "9             Pesawaran   150.110          244.377   228.384\n",
       "10            Pringsewu   126.091          208.957   195.451\n",
       "11               Mesuji    77.170          119.080   111.293\n",
       "12  Tulang Bawang Barat   101.153          141.939   134.472\n",
       "13        Pesisir Barat    46.619           84.048    76.820\n",
       "14       Bandar Lampung   346.719          605.710   580.033\n",
       "15                Metro    51.331           86.189    84.663"
      ]
     },
     "execution_count": 11,
     "metadata": {},
     "output_type": "execute_result"
    }
   ],
   "source": [
    "x"
   ]
  },
  {
   "cell_type": "code",
   "execution_count": 12,
   "id": "0b6b6a85",
   "metadata": {},
   "outputs": [
    {
     "ename": "IndexError",
     "evalue": "single positional indexer is out-of-bounds",
     "output_type": "error",
     "traceback": [
      "\u001b[1;31m---------------------------------------------------------------------------\u001b[0m",
      "\u001b[1;31mIndexError\u001b[0m                                Traceback (most recent call last)",
      "Cell \u001b[1;32mIn[12], line 1\u001b[0m\n\u001b[1;32m----> 1\u001b[0m y \u001b[38;5;241m=\u001b[39m data\u001b[38;5;241m.\u001b[39miloc[\u001b[38;5;241m0\u001b[39m:\u001b[38;5;241m5\u001b[39m,\u001b[38;5;241m5\u001b[39m]\n",
      "File \u001b[1;32mD:\\Aplikasi\\Anaconda Prompt\\Lib\\site-packages\\pandas\\core\\indexing.py:1097\u001b[0m, in \u001b[0;36m_LocationIndexer.__getitem__\u001b[1;34m(self, key)\u001b[0m\n\u001b[0;32m   1095\u001b[0m     \u001b[38;5;28;01mif\u001b[39;00m \u001b[38;5;28mself\u001b[39m\u001b[38;5;241m.\u001b[39m_is_scalar_access(key):\n\u001b[0;32m   1096\u001b[0m         \u001b[38;5;28;01mreturn\u001b[39;00m \u001b[38;5;28mself\u001b[39m\u001b[38;5;241m.\u001b[39mobj\u001b[38;5;241m.\u001b[39m_get_value(\u001b[38;5;241m*\u001b[39mkey, takeable\u001b[38;5;241m=\u001b[39m\u001b[38;5;28mself\u001b[39m\u001b[38;5;241m.\u001b[39m_takeable)\n\u001b[1;32m-> 1097\u001b[0m     \u001b[38;5;28;01mreturn\u001b[39;00m \u001b[38;5;28mself\u001b[39m\u001b[38;5;241m.\u001b[39m_getitem_tuple(key)\n\u001b[0;32m   1098\u001b[0m \u001b[38;5;28;01melse\u001b[39;00m:\n\u001b[0;32m   1099\u001b[0m     \u001b[38;5;66;03m# we by definition only have the 0th axis\u001b[39;00m\n\u001b[0;32m   1100\u001b[0m     axis \u001b[38;5;241m=\u001b[39m \u001b[38;5;28mself\u001b[39m\u001b[38;5;241m.\u001b[39maxis \u001b[38;5;129;01mor\u001b[39;00m \u001b[38;5;241m0\u001b[39m\n",
      "File \u001b[1;32mD:\\Aplikasi\\Anaconda Prompt\\Lib\\site-packages\\pandas\\core\\indexing.py:1594\u001b[0m, in \u001b[0;36m_iLocIndexer._getitem_tuple\u001b[1;34m(self, tup)\u001b[0m\n\u001b[0;32m   1593\u001b[0m \u001b[38;5;28;01mdef\u001b[39;00m \u001b[38;5;21m_getitem_tuple\u001b[39m(\u001b[38;5;28mself\u001b[39m, tup: \u001b[38;5;28mtuple\u001b[39m):\n\u001b[1;32m-> 1594\u001b[0m     tup \u001b[38;5;241m=\u001b[39m \u001b[38;5;28mself\u001b[39m\u001b[38;5;241m.\u001b[39m_validate_tuple_indexer(tup)\n\u001b[0;32m   1595\u001b[0m     \u001b[38;5;28;01mwith\u001b[39;00m suppress(IndexingError):\n\u001b[0;32m   1596\u001b[0m         \u001b[38;5;28;01mreturn\u001b[39;00m \u001b[38;5;28mself\u001b[39m\u001b[38;5;241m.\u001b[39m_getitem_lowerdim(tup)\n",
      "File \u001b[1;32mD:\\Aplikasi\\Anaconda Prompt\\Lib\\site-packages\\pandas\\core\\indexing.py:904\u001b[0m, in \u001b[0;36m_LocationIndexer._validate_tuple_indexer\u001b[1;34m(self, key)\u001b[0m\n\u001b[0;32m    902\u001b[0m \u001b[38;5;28;01mfor\u001b[39;00m i, k \u001b[38;5;129;01min\u001b[39;00m \u001b[38;5;28menumerate\u001b[39m(key):\n\u001b[0;32m    903\u001b[0m     \u001b[38;5;28;01mtry\u001b[39;00m:\n\u001b[1;32m--> 904\u001b[0m         \u001b[38;5;28mself\u001b[39m\u001b[38;5;241m.\u001b[39m_validate_key(k, i)\n\u001b[0;32m    905\u001b[0m     \u001b[38;5;28;01mexcept\u001b[39;00m \u001b[38;5;167;01mValueError\u001b[39;00m \u001b[38;5;28;01mas\u001b[39;00m err:\n\u001b[0;32m    906\u001b[0m         \u001b[38;5;28;01mraise\u001b[39;00m \u001b[38;5;167;01mValueError\u001b[39;00m(\n\u001b[0;32m    907\u001b[0m             \u001b[38;5;124m\"\u001b[39m\u001b[38;5;124mLocation based indexing can only have \u001b[39m\u001b[38;5;124m\"\u001b[39m\n\u001b[0;32m    908\u001b[0m             \u001b[38;5;124mf\u001b[39m\u001b[38;5;124m\"\u001b[39m\u001b[38;5;124m[\u001b[39m\u001b[38;5;132;01m{\u001b[39;00m\u001b[38;5;28mself\u001b[39m\u001b[38;5;241m.\u001b[39m_valid_types\u001b[38;5;132;01m}\u001b[39;00m\u001b[38;5;124m] types\u001b[39m\u001b[38;5;124m\"\u001b[39m\n\u001b[0;32m    909\u001b[0m         ) \u001b[38;5;28;01mfrom\u001b[39;00m \u001b[38;5;21;01merr\u001b[39;00m\n",
      "File \u001b[1;32mD:\\Aplikasi\\Anaconda Prompt\\Lib\\site-packages\\pandas\\core\\indexing.py:1496\u001b[0m, in \u001b[0;36m_iLocIndexer._validate_key\u001b[1;34m(self, key, axis)\u001b[0m\n\u001b[0;32m   1494\u001b[0m     \u001b[38;5;28;01mreturn\u001b[39;00m\n\u001b[0;32m   1495\u001b[0m \u001b[38;5;28;01melif\u001b[39;00m is_integer(key):\n\u001b[1;32m-> 1496\u001b[0m     \u001b[38;5;28mself\u001b[39m\u001b[38;5;241m.\u001b[39m_validate_integer(key, axis)\n\u001b[0;32m   1497\u001b[0m \u001b[38;5;28;01melif\u001b[39;00m \u001b[38;5;28misinstance\u001b[39m(key, \u001b[38;5;28mtuple\u001b[39m):\n\u001b[0;32m   1498\u001b[0m     \u001b[38;5;66;03m# a tuple should already have been caught by this point\u001b[39;00m\n\u001b[0;32m   1499\u001b[0m     \u001b[38;5;66;03m# so don't treat a tuple as a valid indexer\u001b[39;00m\n\u001b[0;32m   1500\u001b[0m     \u001b[38;5;28;01mraise\u001b[39;00m IndexingError(\u001b[38;5;124m\"\u001b[39m\u001b[38;5;124mToo many indexers\u001b[39m\u001b[38;5;124m\"\u001b[39m)\n",
      "File \u001b[1;32mD:\\Aplikasi\\Anaconda Prompt\\Lib\\site-packages\\pandas\\core\\indexing.py:1589\u001b[0m, in \u001b[0;36m_iLocIndexer._validate_integer\u001b[1;34m(self, key, axis)\u001b[0m\n\u001b[0;32m   1587\u001b[0m len_axis \u001b[38;5;241m=\u001b[39m \u001b[38;5;28mlen\u001b[39m(\u001b[38;5;28mself\u001b[39m\u001b[38;5;241m.\u001b[39mobj\u001b[38;5;241m.\u001b[39m_get_axis(axis))\n\u001b[0;32m   1588\u001b[0m \u001b[38;5;28;01mif\u001b[39;00m key \u001b[38;5;241m>\u001b[39m\u001b[38;5;241m=\u001b[39m len_axis \u001b[38;5;129;01mor\u001b[39;00m key \u001b[38;5;241m<\u001b[39m \u001b[38;5;241m-\u001b[39mlen_axis:\n\u001b[1;32m-> 1589\u001b[0m     \u001b[38;5;28;01mraise\u001b[39;00m \u001b[38;5;167;01mIndexError\u001b[39;00m(\u001b[38;5;124m\"\u001b[39m\u001b[38;5;124msingle positional indexer is out-of-bounds\u001b[39m\u001b[38;5;124m\"\u001b[39m)\n",
      "\u001b[1;31mIndexError\u001b[0m: single positional indexer is out-of-bounds"
     ]
    }
   ],
   "source": [
    "y = data.iloc[0:5,5]"
   ]
  },
  {
   "cell_type": "code",
   "execution_count": 13,
   "id": "c6077255",
   "metadata": {},
   "outputs": [],
   "source": [
    "y = data.iloc[0:5,4]"
   ]
  },
  {
   "cell_type": "code",
   "execution_count": 14,
   "id": "327997ec",
   "metadata": {},
   "outputs": [
    {
     "data": {
      "text/plain": [
       "0         Total\n",
       "1     1.045.662\n",
       "2     1.479.404\n",
       "3       621.812\n",
       "4       305.972\n",
       "Name: Unnamed: 4, dtype: object"
      ]
     },
     "execution_count": 14,
     "metadata": {},
     "output_type": "execute_result"
    }
   ],
   "source": [
    "y"
   ]
  },
  {
   "cell_type": "code",
   "execution_count": 15,
   "id": "65293fc5",
   "metadata": {},
   "outputs": [],
   "source": [
    "y = data.iloc[0:5,1]"
   ]
  },
  {
   "cell_type": "code",
   "execution_count": 16,
   "id": "62208db0",
   "metadata": {},
   "outputs": [
    {
     "data": {
      "text/plain": [
       "0            \n",
       "1     320.799\n",
       "2     467.358\n",
       "3     197.820\n",
       "4      88.999\n",
       "Name:  KK, dtype: object"
      ]
     },
     "execution_count": 16,
     "metadata": {},
     "output_type": "execute_result"
    }
   ],
   "source": [
    "y"
   ]
  },
  {
   "cell_type": "code",
   "execution_count": 17,
   "id": "9a597360",
   "metadata": {},
   "outputs": [],
   "source": [
    "y = data.iloc[0:5,3]"
   ]
  },
  {
   "cell_type": "code",
   "execution_count": 18,
   "id": "13460c3d",
   "metadata": {},
   "outputs": [
    {
     "data": {
      "text/plain": [
       "0          Pr\n",
       "1     509.939\n",
       "2     719.275\n",
       "3     304.165\n",
       "4     146.911\n",
       "Name:  , dtype: object"
      ]
     },
     "execution_count": 18,
     "metadata": {},
     "output_type": "execute_result"
    }
   ],
   "source": [
    "y"
   ]
  },
  {
   "cell_type": "code",
   "execution_count": 19,
   "id": "e482417b",
   "metadata": {},
   "outputs": [],
   "source": [
    "y = data.iloc[0:5,2]"
   ]
  },
  {
   "cell_type": "code",
   "execution_count": 20,
   "id": "b30d6fae",
   "metadata": {},
   "outputs": [
    {
     "data": {
      "text/plain": [
       "0          Lk\n",
       "1     535.723\n",
       "2     760.129\n",
       "3     317.647\n",
       "4     159.061\n",
       "Name:  Jumlah Penduduk, dtype: object"
      ]
     },
     "execution_count": 20,
     "metadata": {},
     "output_type": "execute_result"
    }
   ],
   "source": [
    "y"
   ]
  },
  {
   "cell_type": "code",
   "execution_count": 21,
   "id": "8e8755d6",
   "metadata": {},
   "outputs": [],
   "source": [
    "y = data.iloc[0:5,0]"
   ]
  },
  {
   "cell_type": "code",
   "execution_count": 22,
   "id": "1088cec4",
   "metadata": {},
   "outputs": [
    {
     "data": {
      "text/plain": [
       "0                   \n",
       "1    Lampung Selatan\n",
       "2     Lampung Tengah\n",
       "3      Lampung Utara\n",
       "4      Lampung Barat\n",
       "Name: Nama Kab/Kota, dtype: object"
      ]
     },
     "execution_count": 22,
     "metadata": {},
     "output_type": "execute_result"
    }
   ],
   "source": [
    "y"
   ]
  },
  {
   "cell_type": "code",
   "execution_count": 23,
   "id": "e242c8ef",
   "metadata": {},
   "outputs": [],
   "source": [
    "y = data.iloc[-1:5, 1]"
   ]
  },
  {
   "cell_type": "code",
   "execution_count": 24,
   "id": "416b70da",
   "metadata": {},
   "outputs": [
    {
     "data": {
      "text/plain": [
       "Series([], Name:  KK, dtype: object)"
      ]
     },
     "execution_count": 24,
     "metadata": {},
     "output_type": "execute_result"
    }
   ],
   "source": [
    "y"
   ]
  },
  {
   "cell_type": "code",
   "execution_count": null,
   "id": "12fb01d8",
   "metadata": {},
   "outputs": [],
   "source": []
  }
 ],
 "metadata": {
  "kernelspec": {
   "display_name": "Python 3 (ipykernel)",
   "language": "python",
   "name": "python3"
  },
  "language_info": {
   "codemirror_mode": {
    "name": "ipython",
    "version": 3
   },
   "file_extension": ".py",
   "mimetype": "text/x-python",
   "name": "python",
   "nbconvert_exporter": "python",
   "pygments_lexer": "ipython3",
   "version": "3.11.5"
  }
 },
 "nbformat": 4,
 "nbformat_minor": 5
}
